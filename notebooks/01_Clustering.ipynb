{
 "cells": [
  {
   "cell_type": "code",
   "execution_count": 1,
   "metadata": {},
   "outputs": [],
   "source": [
    "import pandas as pd\n",
    "import numpy as np\n",
    "import matplotlib.pyplot as plt\n",
    "%matplotlib inline\n"
   ]
  },
  {
   "cell_type": "code",
   "execution_count": 2,
   "metadata": {},
   "outputs": [
    {
     "data": {
      "text/html": [
       "<div>\n",
       "<style scoped>\n",
       "    .dataframe tbody tr th:only-of-type {\n",
       "        vertical-align: middle;\n",
       "    }\n",
       "\n",
       "    .dataframe tbody tr th {\n",
       "        vertical-align: top;\n",
       "    }\n",
       "\n",
       "    .dataframe thead th {\n",
       "        text-align: right;\n",
       "    }\n",
       "</style>\n",
       "<table border=\"1\" class=\"dataframe\">\n",
       "  <thead>\n",
       "    <tr style=\"text-align: right;\">\n",
       "      <th></th>\n",
       "      <th>Average_Speed</th>\n",
       "      <th>Waiting_Time</th>\n",
       "      <th>Daily_Commute_Distance</th>\n",
       "      <th>Traffic_Congestion_Score</th>\n",
       "    </tr>\n",
       "  </thead>\n",
       "  <tbody>\n",
       "    <tr>\n",
       "      <th>0</th>\n",
       "      <td>27.490802</td>\n",
       "      <td>5.904533</td>\n",
       "      <td>14.945633</td>\n",
       "      <td>49.967024</td>\n",
       "    </tr>\n",
       "    <tr>\n",
       "      <th>1</th>\n",
       "      <td>39.014286</td>\n",
       "      <td>7.101535</td>\n",
       "      <td>13.316484</td>\n",
       "      <td>74.674677</td>\n",
       "    </tr>\n",
       "    <tr>\n",
       "      <th>2</th>\n",
       "      <td>34.639879</td>\n",
       "      <td>12.818211</td>\n",
       "      <td>7.046157</td>\n",
       "      <td>56.266678</td>\n",
       "    </tr>\n",
       "    <tr>\n",
       "      <th>3</th>\n",
       "      <td>31.973170</td>\n",
       "      <td>5.100066</td>\n",
       "      <td>24.290667</td>\n",
       "      <td>8.330258</td>\n",
       "    </tr>\n",
       "    <tr>\n",
       "      <th>4</th>\n",
       "      <td>23.120373</td>\n",
       "      <td>13.044745</td>\n",
       "      <td>19.064966</td>\n",
       "      <td>18.558024</td>\n",
       "    </tr>\n",
       "  </tbody>\n",
       "</table>\n",
       "</div>"
      ],
      "text/plain": [
       "   Average_Speed  Waiting_Time  Daily_Commute_Distance  \\\n",
       "0      27.490802      5.904533               14.945633   \n",
       "1      39.014286      7.101535               13.316484   \n",
       "2      34.639879     12.818211                7.046157   \n",
       "3      31.973170      5.100066               24.290667   \n",
       "4      23.120373     13.044745               19.064966   \n",
       "\n",
       "   Traffic_Congestion_Score  \n",
       "0                 49.967024  \n",
       "1                 74.674677  \n",
       "2                 56.266678  \n",
       "3                  8.330258  \n",
       "4                 18.558024  "
      ]
     },
     "execution_count": 2,
     "metadata": {},
     "output_type": "execute_result"
    }
   ],
   "source": [
    "df = pd.read_excel('../data/Urban_Mobility_Patterns_Data.xlsx', sheet_name='Sheet1')\n",
    "df.head()"
   ]
  },
  {
   "cell_type": "code",
   "execution_count": 3,
   "metadata": {},
   "outputs": [
    {
     "name": "stdout",
     "output_type": "stream",
     "text": [
      "<class 'pandas.core.frame.DataFrame'>\n",
      "RangeIndex: 5000 entries, 0 to 4999\n",
      "Data columns (total 4 columns):\n",
      " #   Column                    Non-Null Count  Dtype  \n",
      "---  ------                    --------------  -----  \n",
      " 0   Average_Speed             4880 non-null   float64\n",
      " 1   Waiting_Time              5000 non-null   float64\n",
      " 2   Daily_Commute_Distance    4880 non-null   float64\n",
      " 3   Traffic_Congestion_Score  5000 non-null   float64\n",
      "dtypes: float64(4)\n",
      "memory usage: 156.4 KB\n"
     ]
    }
   ],
   "source": [
    "df.info()"
   ]
  },
  {
   "cell_type": "code",
   "execution_count": 4,
   "metadata": {},
   "outputs": [
    {
     "data": {
      "text/plain": [
       "Average_Speed               120\n",
       "Waiting_Time                  0\n",
       "Daily_Commute_Distance      120\n",
       "Traffic_Congestion_Score      0\n",
       "dtype: int64"
      ]
     },
     "execution_count": 4,
     "metadata": {},
     "output_type": "execute_result"
    }
   ],
   "source": [
    "df.isnull().sum()"
   ]
  },
  {
   "cell_type": "code",
   "execution_count": 8,
   "metadata": {},
   "outputs": [
    {
     "data": {
      "text/html": [
       "<div>\n",
       "<style scoped>\n",
       "    .dataframe tbody tr th:only-of-type {\n",
       "        vertical-align: middle;\n",
       "    }\n",
       "\n",
       "    .dataframe tbody tr th {\n",
       "        vertical-align: top;\n",
       "    }\n",
       "\n",
       "    .dataframe thead th {\n",
       "        text-align: right;\n",
       "    }\n",
       "</style>\n",
       "<table border=\"1\" class=\"dataframe\">\n",
       "  <thead>\n",
       "    <tr style=\"text-align: right;\">\n",
       "      <th></th>\n",
       "      <th>Average_Speed</th>\n",
       "      <th>Waiting_Time</th>\n",
       "      <th>Daily_Commute_Distance</th>\n",
       "      <th>Traffic_Congestion_Score</th>\n",
       "    </tr>\n",
       "  </thead>\n",
       "  <tbody>\n",
       "    <tr>\n",
       "      <th>59</th>\n",
       "      <td>NaN</td>\n",
       "      <td>5.205035</td>\n",
       "      <td>NaN</td>\n",
       "      <td>43.838090</td>\n",
       "    </tr>\n",
       "    <tr>\n",
       "      <th>70</th>\n",
       "      <td>NaN</td>\n",
       "      <td>8.292223</td>\n",
       "      <td>NaN</td>\n",
       "      <td>93.309407</td>\n",
       "    </tr>\n",
       "    <tr>\n",
       "      <th>111</th>\n",
       "      <td>NaN</td>\n",
       "      <td>12.976066</td>\n",
       "      <td>NaN</td>\n",
       "      <td>74.423526</td>\n",
       "    </tr>\n",
       "    <tr>\n",
       "      <th>194</th>\n",
       "      <td>NaN</td>\n",
       "      <td>3.072036</td>\n",
       "      <td>NaN</td>\n",
       "      <td>24.854931</td>\n",
       "    </tr>\n",
       "    <tr>\n",
       "      <th>275</th>\n",
       "      <td>NaN</td>\n",
       "      <td>3.412224</td>\n",
       "      <td>NaN</td>\n",
       "      <td>48.600345</td>\n",
       "    </tr>\n",
       "    <tr>\n",
       "      <th>...</th>\n",
       "      <td>...</td>\n",
       "      <td>...</td>\n",
       "      <td>...</td>\n",
       "      <td>...</td>\n",
       "    </tr>\n",
       "    <tr>\n",
       "      <th>4863</th>\n",
       "      <td>NaN</td>\n",
       "      <td>12.090248</td>\n",
       "      <td>NaN</td>\n",
       "      <td>99.456557</td>\n",
       "    </tr>\n",
       "    <tr>\n",
       "      <th>4890</th>\n",
       "      <td>NaN</td>\n",
       "      <td>10.755719</td>\n",
       "      <td>NaN</td>\n",
       "      <td>15.509427</td>\n",
       "    </tr>\n",
       "    <tr>\n",
       "      <th>4911</th>\n",
       "      <td>NaN</td>\n",
       "      <td>13.622844</td>\n",
       "      <td>NaN</td>\n",
       "      <td>10.244212</td>\n",
       "    </tr>\n",
       "    <tr>\n",
       "      <th>4963</th>\n",
       "      <td>NaN</td>\n",
       "      <td>8.249685</td>\n",
       "      <td>NaN</td>\n",
       "      <td>90.297672</td>\n",
       "    </tr>\n",
       "    <tr>\n",
       "      <th>4996</th>\n",
       "      <td>NaN</td>\n",
       "      <td>13.462633</td>\n",
       "      <td>NaN</td>\n",
       "      <td>4.681396</td>\n",
       "    </tr>\n",
       "  </tbody>\n",
       "</table>\n",
       "<p>120 rows × 4 columns</p>\n",
       "</div>"
      ],
      "text/plain": [
       "      Average_Speed  Waiting_Time  Daily_Commute_Distance  \\\n",
       "59              NaN      5.205035                     NaN   \n",
       "70              NaN      8.292223                     NaN   \n",
       "111             NaN     12.976066                     NaN   \n",
       "194             NaN      3.072036                     NaN   \n",
       "275             NaN      3.412224                     NaN   \n",
       "...             ...           ...                     ...   \n",
       "4863            NaN     12.090248                     NaN   \n",
       "4890            NaN     10.755719                     NaN   \n",
       "4911            NaN     13.622844                     NaN   \n",
       "4963            NaN      8.249685                     NaN   \n",
       "4996            NaN     13.462633                     NaN   \n",
       "\n",
       "      Traffic_Congestion_Score  \n",
       "59                   43.838090  \n",
       "70                   93.309407  \n",
       "111                  74.423526  \n",
       "194                  24.854931  \n",
       "275                  48.600345  \n",
       "...                        ...  \n",
       "4863                 99.456557  \n",
       "4890                 15.509427  \n",
       "4911                 10.244212  \n",
       "4963                 90.297672  \n",
       "4996                  4.681396  \n",
       "\n",
       "[120 rows x 4 columns]"
      ]
     },
     "execution_count": 8,
     "metadata": {},
     "output_type": "execute_result"
    }
   ],
   "source": [
    "# print rows with missing values\n",
    "df[df.isnull().any(axis=1)]"
   ]
  },
  {
   "cell_type": "code",
   "execution_count": 29,
   "metadata": {},
   "outputs": [],
   "source": [
    "df_clean = df.dropna()\n",
    "df_only_null = df[~df.index.isin(df_clean.index)]"
   ]
  },
  {
   "cell_type": "code",
   "execution_count": 33,
   "metadata": {},
   "outputs": [
    {
     "data": {
      "text/html": [
       "<div>\n",
       "<style scoped>\n",
       "    .dataframe tbody tr th:only-of-type {\n",
       "        vertical-align: middle;\n",
       "    }\n",
       "\n",
       "    .dataframe tbody tr th {\n",
       "        vertical-align: top;\n",
       "    }\n",
       "\n",
       "    .dataframe thead th {\n",
       "        text-align: right;\n",
       "    }\n",
       "</style>\n",
       "<table border=\"1\" class=\"dataframe\">\n",
       "  <thead>\n",
       "    <tr style=\"text-align: right;\">\n",
       "      <th></th>\n",
       "      <th>Average_Speed</th>\n",
       "      <th>Waiting_Time</th>\n",
       "      <th>Daily_Commute_Distance</th>\n",
       "      <th>Traffic_Congestion_Score</th>\n",
       "    </tr>\n",
       "  </thead>\n",
       "  <tbody>\n",
       "    <tr>\n",
       "      <th>0</th>\n",
       "      <td>27.490802</td>\n",
       "      <td>5.904533</td>\n",
       "      <td>14.945633</td>\n",
       "      <td>49.967024</td>\n",
       "    </tr>\n",
       "    <tr>\n",
       "      <th>1</th>\n",
       "      <td>39.014286</td>\n",
       "      <td>7.101535</td>\n",
       "      <td>13.316484</td>\n",
       "      <td>74.674677</td>\n",
       "    </tr>\n",
       "    <tr>\n",
       "      <th>2</th>\n",
       "      <td>34.639879</td>\n",
       "      <td>12.818211</td>\n",
       "      <td>7.046157</td>\n",
       "      <td>56.266678</td>\n",
       "    </tr>\n",
       "    <tr>\n",
       "      <th>3</th>\n",
       "      <td>31.973170</td>\n",
       "      <td>5.100066</td>\n",
       "      <td>24.290667</td>\n",
       "      <td>8.330258</td>\n",
       "    </tr>\n",
       "    <tr>\n",
       "      <th>4</th>\n",
       "      <td>23.120373</td>\n",
       "      <td>13.044745</td>\n",
       "      <td>19.064966</td>\n",
       "      <td>18.558024</td>\n",
       "    </tr>\n",
       "  </tbody>\n",
       "</table>\n",
       "</div>"
      ],
      "text/plain": [
       "   Average_Speed  Waiting_Time  Daily_Commute_Distance  \\\n",
       "0      27.490802      5.904533               14.945633   \n",
       "1      39.014286      7.101535               13.316484   \n",
       "2      34.639879     12.818211                7.046157   \n",
       "3      31.973170      5.100066               24.290667   \n",
       "4      23.120373     13.044745               19.064966   \n",
       "\n",
       "   Traffic_Congestion_Score  \n",
       "0                 49.967024  \n",
       "1                 74.674677  \n",
       "2                 56.266678  \n",
       "3                  8.330258  \n",
       "4                 18.558024  "
      ]
     },
     "execution_count": 33,
     "metadata": {},
     "output_type": "execute_result"
    }
   ],
   "source": [
    "df_clean.head()"
   ]
  },
  {
   "cell_type": "code",
   "execution_count": 30,
   "metadata": {},
   "outputs": [
    {
     "data": {
      "text/html": [
       "<div>\n",
       "<style scoped>\n",
       "    .dataframe tbody tr th:only-of-type {\n",
       "        vertical-align: middle;\n",
       "    }\n",
       "\n",
       "    .dataframe tbody tr th {\n",
       "        vertical-align: top;\n",
       "    }\n",
       "\n",
       "    .dataframe thead th {\n",
       "        text-align: right;\n",
       "    }\n",
       "</style>\n",
       "<table border=\"1\" class=\"dataframe\">\n",
       "  <thead>\n",
       "    <tr style=\"text-align: right;\">\n",
       "      <th></th>\n",
       "      <th>Average_Speed</th>\n",
       "      <th>Waiting_Time</th>\n",
       "      <th>Daily_Commute_Distance</th>\n",
       "      <th>Traffic_Congestion_Score</th>\n",
       "    </tr>\n",
       "  </thead>\n",
       "  <tbody>\n",
       "    <tr>\n",
       "      <th>59</th>\n",
       "      <td>NaN</td>\n",
       "      <td>5.205035</td>\n",
       "      <td>NaN</td>\n",
       "      <td>43.838090</td>\n",
       "    </tr>\n",
       "    <tr>\n",
       "      <th>70</th>\n",
       "      <td>NaN</td>\n",
       "      <td>8.292223</td>\n",
       "      <td>NaN</td>\n",
       "      <td>93.309407</td>\n",
       "    </tr>\n",
       "    <tr>\n",
       "      <th>111</th>\n",
       "      <td>NaN</td>\n",
       "      <td>12.976066</td>\n",
       "      <td>NaN</td>\n",
       "      <td>74.423526</td>\n",
       "    </tr>\n",
       "    <tr>\n",
       "      <th>194</th>\n",
       "      <td>NaN</td>\n",
       "      <td>3.072036</td>\n",
       "      <td>NaN</td>\n",
       "      <td>24.854931</td>\n",
       "    </tr>\n",
       "    <tr>\n",
       "      <th>275</th>\n",
       "      <td>NaN</td>\n",
       "      <td>3.412224</td>\n",
       "      <td>NaN</td>\n",
       "      <td>48.600345</td>\n",
       "    </tr>\n",
       "  </tbody>\n",
       "</table>\n",
       "</div>"
      ],
      "text/plain": [
       "     Average_Speed  Waiting_Time  Daily_Commute_Distance  \\\n",
       "59             NaN      5.205035                     NaN   \n",
       "70             NaN      8.292223                     NaN   \n",
       "111            NaN     12.976066                     NaN   \n",
       "194            NaN      3.072036                     NaN   \n",
       "275            NaN      3.412224                     NaN   \n",
       "\n",
       "     Traffic_Congestion_Score  \n",
       "59                  43.838090  \n",
       "70                  93.309407  \n",
       "111                 74.423526  \n",
       "194                 24.854931  \n",
       "275                 48.600345  "
      ]
     },
     "execution_count": 30,
     "metadata": {},
     "output_type": "execute_result"
    }
   ],
   "source": [
    "df_only_null.head()"
   ]
  },
  {
   "cell_type": "code",
   "execution_count": 52,
   "metadata": {},
   "outputs": [],
   "source": [
    "from sklearn.linear_model import LinearRegression\n",
    "from sklearn.metrics import mean_squared_error, r2_score\n",
    "from sklearn.model_selection import train_test_split\n",
    "\n",
    "X_train_clean_avgspeed, X_test_clean_avgspeed, y_train_clean_avgspeed, y_test_clean_avgspeed = train_test_split(df_clean[['Waiting_Time', 'Traffic_Congestion_Score']], df_clean[['Average_Speed']], test_size=0.2, random_state=42)"
   ]
  },
  {
   "cell_type": "code",
   "execution_count": 53,
   "metadata": {},
   "outputs": [],
   "source": [
    "from sklearn.neighbors import KNeighborsRegressor\n",
    "from sklearn.metrics import mean_squared_error\n",
    "\n",
    "def find_best_k(X_train, y_train, X_test, y_test, k_range=(1, 10)):\n",
    "    error_rate = []\n",
    "    for i in range(k_range[0], k_range[1]):\n",
    "        knn = KNeighborsRegressor(n_neighbors=i)\n",
    "        knn.fit(X_train, y_train)\n",
    "        pred_i = knn.predict(X_test)\n",
    "        error_rate.append(np.sqrt(mean_squared_error(y_test, pred_i)))\n",
    "\n",
    "    plt.figure(figsize=(10, 6))\n",
    "    plt.plot(range(k_range[0], k_range[1]), error_rate, color='blue', linestyle='dashed', marker='o',\n",
    "             markerfacecolor='red', markersize=10)\n",
    "    plt.title('RMSE vs. K Value')\n",
    "    plt.xlabel('K')\n",
    "    plt.ylabel('RMSE')\n",
    "    plt.show()\n",
    "\n",
    "    # print the best k\n",
    "    best_k = error_rate.index(min(error_rate)) + 1\n",
    "    print(\"Minimum RMSE:\", min(error_rate), \"at K =\", best_k)\n",
    "    \n",
    "    return best_k\n"
   ]
  },
  {
   "cell_type": "code",
   "execution_count": 59,
   "metadata": {},
   "outputs": [
    {
     "data": {
      "image/png": "[encoded data removed]",
      "text/plain": [
       "<Figure size 1000x600 with 1 Axes>"
      ]
     },
     "metadata": {},
     "output_type": "display_data"
    },
    {
     "name": "stdout",
     "output_type": "stream",
     "text": [
      "Minimum RMSE: 6.1187991868601035 at K = 9\n"
     ]
    }
   ],
   "source": [
    "bestK_clean_avgspeed = find_best_k(X_train_clean_avgspeed, y_train_clean_avgspeed, X_test_clean_avgspeed, y_test_clean_avgspeed)"
   ]
  },
  {
   "cell_type": "code",
   "execution_count": 60,
   "metadata": {},
   "outputs": [
    {
     "name": "stdout",
     "output_type": "stream",
     "text": [
      "RMSE: 6.1187991868601035\n"
     ]
    }
   ],
   "source": [
    "# train the model with the best k\n",
    "knn = KNeighborsRegressor(n_neighbors=bestK_clean_avgspeed)\n",
    "knn.fit(X_train_clean_avgspeed,y_train_clean_avgspeed)\n",
    "pred = knn.predict(X_test_clean_avgspeed)\n",
    "print('RMSE:',np.sqrt(mean_squared_error(y_test_clean_avgspeed,pred)))"
   ]
  },
  {
   "cell_type": "code",
   "execution_count": 61,
   "metadata": {},
   "outputs": [
    {
     "name": "stderr",
     "output_type": "stream",
     "text": [
      "/var/folders/jw/pk9yd5v978d_6j_wky4ptw480000gn/T/ipykernel_44601/628871069.py:2: SettingWithCopyWarning: \n",
      "A value is trying to be set on a copy of a slice from a DataFrame.\n",
      "Try using .loc[row_indexer,col_indexer] = value instead\n",
      "\n",
      "See the caveats in the documentation: https://pandas.pydata.org/pandas-docs/stable/user_guide/indexing.html#returning-a-view-versus-a-copy\n",
      "  df_only_null['Average_Speed'] = knn.predict(df_only_null[['Waiting_Time', 'Traffic_Congestion_Score']])\n"
     ]
    },
    {
     "data": {
      "text/html": [
       "<div>\n",
       "<style scoped>\n",
       "    .dataframe tbody tr th:only-of-type {\n",
       "        vertical-align: middle;\n",
       "    }\n",
       "\n",
       "    .dataframe tbody tr th {\n",
       "        vertical-align: top;\n",
       "    }\n",
       "\n",
       "    .dataframe thead th {\n",
       "        text-align: right;\n",
       "    }\n",
       "</style>\n",
       "<table border=\"1\" class=\"dataframe\">\n",
       "  <thead>\n",
       "    <tr style=\"text-align: right;\">\n",
       "      <th></th>\n",
       "      <th>Average_Speed</th>\n",
       "      <th>Waiting_Time</th>\n",
       "      <th>Daily_Commute_Distance</th>\n",
       "      <th>Traffic_Congestion_Score</th>\n",
       "    </tr>\n",
       "  </thead>\n",
       "  <tbody>\n",
       "    <tr>\n",
       "      <th>59</th>\n",
       "      <td>26.533994</td>\n",
       "      <td>5.205035</td>\n",
       "      <td>NaN</td>\n",
       "      <td>43.838090</td>\n",
       "    </tr>\n",
       "    <tr>\n",
       "      <th>70</th>\n",
       "      <td>32.250248</td>\n",
       "      <td>8.292223</td>\n",
       "      <td>NaN</td>\n",
       "      <td>93.309407</td>\n",
       "    </tr>\n",
       "    <tr>\n",
       "      <th>111</th>\n",
       "      <td>31.243225</td>\n",
       "      <td>12.976066</td>\n",
       "      <td>NaN</td>\n",
       "      <td>74.423526</td>\n",
       "    </tr>\n",
       "    <tr>\n",
       "      <th>194</th>\n",
       "      <td>30.776031</td>\n",
       "      <td>3.072036</td>\n",
       "      <td>NaN</td>\n",
       "      <td>24.854931</td>\n",
       "    </tr>\n",
       "    <tr>\n",
       "      <th>275</th>\n",
       "      <td>31.977573</td>\n",
       "      <td>3.412224</td>\n",
       "      <td>NaN</td>\n",
       "      <td>48.600345</td>\n",
       "    </tr>\n",
       "  </tbody>\n",
       "</table>\n",
       "</div>"
      ],
      "text/plain": [
       "     Average_Speed  Waiting_Time  Daily_Commute_Distance  \\\n",
       "59       26.533994      5.205035                     NaN   \n",
       "70       32.250248      8.292223                     NaN   \n",
       "111      31.243225     12.976066                     NaN   \n",
       "194      30.776031      3.072036                     NaN   \n",
       "275      31.977573      3.412224                     NaN   \n",
       "\n",
       "     Traffic_Congestion_Score  \n",
       "59                  43.838090  \n",
       "70                  93.309407  \n",
       "111                 74.423526  \n",
       "194                 24.854931  \n",
       "275                 48.600345  "
      ]
     },
     "execution_count": 61,
     "metadata": {},
     "output_type": "execute_result"
    }
   ],
   "source": [
    "# predict the missing values and add them to the original dataframe\n",
    "df_only_null['Average_Speed'] = knn.predict(df_only_null[['Waiting_Time', 'Traffic_Congestion_Score']])\n",
    "df_only_null.head()"
   ]
  },
  {
   "cell_type": "code",
   "execution_count": 64,
   "metadata": {},
   "outputs": [],
   "source": [
    "X_train_clean_comdis, X_test_clean_comdis, y_train_clean_comdis, y_test_clean_comdis = train_test_split(df_clean[['Waiting_Time', 'Traffic_Congestion_Score', 'Average_Speed']], df_clean[['Daily_Commute_Distance']], test_size=0.2, random_state=42)"
   ]
  },
  {
   "cell_type": "code",
   "execution_count": 65,
   "metadata": {},
   "outputs": [
    {
     "data": {
      "image/png": "[encoded data removed]",
      "text/plain": [
       "<Figure size 1000x600 with 1 Axes>"
      ]
     },
     "metadata": {},
     "output_type": "display_data"
    },
    {
     "name": "stdout",
     "output_type": "stream",
     "text": [
      "Minimum RMSE: 12.336483567303242 at K = 9\n"
     ]
    }
   ],
   "source": [
    "bestK_clean_comdis = find_best_k(X_train_clean_comdis, y_train_clean_comdis, X_test_clean_comdis, y_test_clean_comdis)"
   ]
  },
  {
   "cell_type": "code",
   "execution_count": 66,
   "metadata": {},
   "outputs": [
    {
     "name": "stdout",
     "output_type": "stream",
     "text": [
      "RMSE: 12.336483567303242\n"
     ]
    }
   ],
   "source": [
    "# train the model with the best k\n",
    "knn = KNeighborsRegressor(n_neighbors=bestK_clean_comdis)\n",
    "knn.fit(X_train_clean_comdis,y_train_clean_comdis)\n",
    "pred = knn.predict(X_test_clean_comdis)\n",
    "print('RMSE:',np.sqrt(mean_squared_error(y_test_clean_comdis,pred)))"
   ]
  },
  {
   "cell_type": "code",
   "execution_count": 67,
   "metadata": {},
   "outputs": [
    {
     "name": "stderr",
     "output_type": "stream",
     "text": [
      "/var/folders/jw/pk9yd5v978d_6j_wky4ptw480000gn/T/ipykernel_44601/1938479270.py:2: SettingWithCopyWarning: \n",
      "A value is trying to be set on a copy of a slice from a DataFrame.\n",
      "Try using .loc[row_indexer,col_indexer] = value instead\n",
      "\n",
      "See the caveats in the documentation: https://pandas.pydata.org/pandas-docs/stable/user_guide/indexing.html#returning-a-view-versus-a-copy\n",
      "  df_only_null['Daily_Commute_Distance'] = knn.predict(df_only_null[['Waiting_Time', 'Traffic_Congestion_Score', 'Average_Speed']])\n"
     ]
    },
    {
     "data": {
      "text/html": [
       "<div>\n",
       "<style scoped>\n",
       "    .dataframe tbody tr th:only-of-type {\n",
       "        vertical-align: middle;\n",
       "    }\n",
       "\n",
       "    .dataframe tbody tr th {\n",
       "        vertical-align: top;\n",
       "    }\n",
       "\n",
       "    .dataframe thead th {\n",
       "        text-align: right;\n",
       "    }\n",
       "</style>\n",
       "<table border=\"1\" class=\"dataframe\">\n",
       "  <thead>\n",
       "    <tr style=\"text-align: right;\">\n",
       "      <th></th>\n",
       "      <th>Average_Speed</th>\n",
       "      <th>Waiting_Time</th>\n",
       "      <th>Daily_Commute_Distance</th>\n",
       "      <th>Traffic_Congestion_Score</th>\n",
       "    </tr>\n",
       "  </thead>\n",
       "  <tbody>\n",
       "    <tr>\n",
       "      <th>59</th>\n",
       "      <td>26.533994</td>\n",
       "      <td>5.205035</td>\n",
       "      <td>24.934953</td>\n",
       "      <td>43.838090</td>\n",
       "    </tr>\n",
       "    <tr>\n",
       "      <th>70</th>\n",
       "      <td>32.250248</td>\n",
       "      <td>8.292223</td>\n",
       "      <td>22.224499</td>\n",
       "      <td>93.309407</td>\n",
       "    </tr>\n",
       "    <tr>\n",
       "      <th>111</th>\n",
       "      <td>31.243225</td>\n",
       "      <td>12.976066</td>\n",
       "      <td>20.197395</td>\n",
       "      <td>74.423526</td>\n",
       "    </tr>\n",
       "    <tr>\n",
       "      <th>194</th>\n",
       "      <td>30.776031</td>\n",
       "      <td>3.072036</td>\n",
       "      <td>17.448805</td>\n",
       "      <td>24.854931</td>\n",
       "    </tr>\n",
       "    <tr>\n",
       "      <th>275</th>\n",
       "      <td>31.977573</td>\n",
       "      <td>3.412224</td>\n",
       "      <td>11.781525</td>\n",
       "      <td>48.600345</td>\n",
       "    </tr>\n",
       "  </tbody>\n",
       "</table>\n",
       "</div>"
      ],
      "text/plain": [
       "     Average_Speed  Waiting_Time  Daily_Commute_Distance  \\\n",
       "59       26.533994      5.205035               24.934953   \n",
       "70       32.250248      8.292223               22.224499   \n",
       "111      31.243225     12.976066               20.197395   \n",
       "194      30.776031      3.072036               17.448805   \n",
       "275      31.977573      3.412224               11.781525   \n",
       "\n",
       "     Traffic_Congestion_Score  \n",
       "59                  43.838090  \n",
       "70                  93.309407  \n",
       "111                 74.423526  \n",
       "194                 24.854931  \n",
       "275                 48.600345  "
      ]
     },
     "execution_count": 67,
     "metadata": {},
     "output_type": "execute_result"
    }
   ],
   "source": [
    "# predict the missing values and add them to the original dataframe\n",
    "df_only_null['Daily_Commute_Distance'] = knn.predict(df_only_null[['Waiting_Time', 'Traffic_Congestion_Score', 'Average_Speed']])\n",
    "df_only_null.head()"
   ]
  },
  {
   "cell_type": "code",
   "execution_count": 68,
   "metadata": {},
   "outputs": [
    {
     "data": {
      "text/html": [
       "<div>\n",
       "<style scoped>\n",
       "    .dataframe tbody tr th:only-of-type {\n",
       "        vertical-align: middle;\n",
       "    }\n",
       "\n",
       "    .dataframe tbody tr th {\n",
       "        vertical-align: top;\n",
       "    }\n",
       "\n",
       "    .dataframe thead th {\n",
       "        text-align: right;\n",
       "    }\n",
       "</style>\n",
       "<table border=\"1\" class=\"dataframe\">\n",
       "  <thead>\n",
       "    <tr style=\"text-align: right;\">\n",
       "      <th></th>\n",
       "      <th>Average_Speed</th>\n",
       "      <th>Waiting_Time</th>\n",
       "      <th>Daily_Commute_Distance</th>\n",
       "      <th>Traffic_Congestion_Score</th>\n",
       "    </tr>\n",
       "  </thead>\n",
       "  <tbody>\n",
       "    <tr>\n",
       "      <th>0</th>\n",
       "      <td>27.490802</td>\n",
       "      <td>5.904533</td>\n",
       "      <td>14.945633</td>\n",
       "      <td>49.967024</td>\n",
       "    </tr>\n",
       "    <tr>\n",
       "      <th>1</th>\n",
       "      <td>39.014286</td>\n",
       "      <td>7.101535</td>\n",
       "      <td>13.316484</td>\n",
       "      <td>74.674677</td>\n",
       "    </tr>\n",
       "    <tr>\n",
       "      <th>2</th>\n",
       "      <td>34.639879</td>\n",
       "      <td>12.818211</td>\n",
       "      <td>7.046157</td>\n",
       "      <td>56.266678</td>\n",
       "    </tr>\n",
       "    <tr>\n",
       "      <th>3</th>\n",
       "      <td>31.973170</td>\n",
       "      <td>5.100066</td>\n",
       "      <td>24.290667</td>\n",
       "      <td>8.330258</td>\n",
       "    </tr>\n",
       "    <tr>\n",
       "      <th>4</th>\n",
       "      <td>23.120373</td>\n",
       "      <td>13.044745</td>\n",
       "      <td>19.064966</td>\n",
       "      <td>18.558024</td>\n",
       "    </tr>\n",
       "  </tbody>\n",
       "</table>\n",
       "</div>"
      ],
      "text/plain": [
       "   Average_Speed  Waiting_Time  Daily_Commute_Distance  \\\n",
       "0      27.490802      5.904533               14.945633   \n",
       "1      39.014286      7.101535               13.316484   \n",
       "2      34.639879     12.818211                7.046157   \n",
       "3      31.973170      5.100066               24.290667   \n",
       "4      23.120373     13.044745               19.064966   \n",
       "\n",
       "   Traffic_Congestion_Score  \n",
       "0                 49.967024  \n",
       "1                 74.674677  \n",
       "2                 56.266678  \n",
       "3                  8.330258  \n",
       "4                 18.558024  "
      ]
     },
     "execution_count": 68,
     "metadata": {},
     "output_type": "execute_result"
    }
   ],
   "source": [
    "# combine the original dataframe with the one containing the predicted values\n",
    "df = pd.concat([df_clean, df_only_null])\n",
    "df.head()"
   ]
  },
  {
   "cell_type": "code",
   "execution_count": 69,
   "metadata": {},
   "outputs": [
    {
     "data": {
      "text/plain": [
       "Average_Speed               0\n",
       "Waiting_Time                0\n",
       "Daily_Commute_Distance      0\n",
       "Traffic_Congestion_Score    0\n",
       "dtype: int64"
      ]
     },
     "execution_count": 69,
     "metadata": {},
     "output_type": "execute_result"
    }
   ],
   "source": [
    "df.isnull().sum()"
   ]
  },
  {
   "cell_type": "code",
   "execution_count": null,
   "metadata": {},
   "outputs": [],
   "source": []
  }
 ],
 "metadata": {
  "kernelspec": {
   "display_name": "base",
   "language": "python",
   "name": "python3"
  },
  "language_info": {
   "codemirror_mode": {
    "name": "ipython",
    "version": 3
   },
   "file_extension": ".py",
   "mimetype": "text/x-python",
   "name": "python",
   "nbconvert_exporter": "python",
   "pygments_lexer": "ipython3",
   "version": "3.11.4"
  }
 },
 "nbformat": 4,
 "nbformat_minor": 2
}
